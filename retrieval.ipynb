{
 "cells": [
  {
   "cell_type": "code",
   "execution_count": null,
   "metadata": {},
   "outputs": [],
   "source": [
    "# save data locally as a json file\n",
    "import json\n",
    "\n",
    "with open(\"data.json\", \"w\") as f:\n",
    "    json.dump(data_, f, indent=4)"
   ]
  },
  {
   "cell_type": "code",
   "execution_count": 29,
   "metadata": {},
   "outputs": [],
   "source": [
    "#load data from json file\n",
    "with open(\"data.json\", \"r\") as f:\n",
    "    data = json.load(f)"
   ]
  },
  {
   "cell_type": "code",
   "execution_count": 1,
   "metadata": {},
   "outputs": [
    {
     "name": "stderr",
     "output_type": "stream",
     "text": [
      "/Users/kaisarimtiyaz/anaconda3/envs/env1/lib/python3.11/site-packages/sentence_transformers/cross_encoder/CrossEncoder.py:11: TqdmExperimentalWarning: Using `tqdm.autonotebook.tqdm` in notebook mode. Use `tqdm.tqdm` instead to force console mode (e.g. in jupyter console)\n",
      "  from tqdm.autonotebook import tqdm, trange\n",
      "/Users/kaisarimtiyaz/anaconda3/envs/env1/lib/python3.11/site-packages/huggingface_hub/file_download.py:1132: FutureWarning: `resume_download` is deprecated and will be removed in version 1.0.0. Downloads always resume when possible. If you want to force a new download, use `force_download=True`.\n",
      "  warnings.warn(\n"
     ]
    }
   ],
   "source": [
    "from sentence_transformers import SentenceTransformer, util\n",
    "import heapq\n",
    "\n",
    "# Load Sentence Transformer model\n",
    "model = SentenceTransformer('sentence-transformers/multi-qa-MiniLM-L6-cos-v1')\n",
    "\n",
    "# Function to calculate harmonic mean\n",
    "def harmonic_mean(a, b):\n",
    "    return (2 * a * b) / (a + b) if a + b != 0 else 0\n",
    "\n",
    "# Function to get embeddings\n",
    "def get_embedding(text):\n",
    "    return model.encode(text, convert_to_tensor=True)\n",
    "\n",
    "# Retrieval pipeline\n",
    "def retrieve(query, data, top_n=5):\n",
    "    # Get query embedding\n",
    "    query_embedding = get_embedding(query)\n",
    "    \n",
    "    # Step 1: Calculate similarity with topics\n",
    "    topic_similarities = []\n",
    "    for idx, item in enumerate(data):\n",
    "        topic_embedding = get_embedding(item['topic'])\n",
    "        similarity = util.cos_sim(query_embedding, topic_embedding).item()\n",
    "        topic_similarities.append((similarity, idx))\n",
    "    \n",
    "    # Step 2: Select top N topics\n",
    "    top_topics = heapq.nlargest(top_n, topic_similarities, key=lambda x: x[0])\n",
    "    \n",
    "    # Step 3: Calculate similarity with content for top topics\n",
    "    results = []\n",
    "    for topic_similarity, idx in top_topics:\n",
    "        content_embedding = get_embedding(data[idx]['content'])\n",
    "        content_similarity = util.cos_sim(query_embedding, content_embedding).item()\n",
    "        # Step 4: Rank by harmonic mean\n",
    "        hmean = harmonic_mean(topic_similarity, content_similarity)\n",
    "        results.append((hmean, data[idx]))\n",
    "    \n",
    "    # Step 5: Sort results by harmonic mean\n",
    "    results = sorted(results, key=lambda x: x[0], reverse=True)\n",
    "    \n",
    "    return results"
   ]
  },
  {
   "cell_type": "code",
   "execution_count": null,
   "metadata": {},
   "outputs": [],
   "source": [
    "# User Query\n",
    "query = \"what is the energy in fully developed laminar flow?\"\n",
    "\n",
    "# Retrieve Results\n",
    "results = retrieve(query, data)\n",
    "\n",
    "# Print Ranked Results\n",
    "print(\"Ranked Results:\")\n",
    "for score, item in results:\n",
    "    print(f\"Total Similarity: {score:.4f}, Topic: {item['topic']}, Content: {item['content'][:1000]}...\")"
   ]
  },
  {
   "cell_type": "code",
   "execution_count": null,
   "metadata": {},
   "outputs": [],
   "source": []
  }
 ],
 "metadata": {
  "kernelspec": {
   "display_name": "env1",
   "language": "python",
   "name": "python3"
  },
  "language_info": {
   "codemirror_mode": {
    "name": "ipython",
    "version": 3
   },
   "file_extension": ".py",
   "mimetype": "text/x-python",
   "name": "python",
   "nbconvert_exporter": "python",
   "pygments_lexer": "ipython3",
   "version": "3.11.5"
  }
 },
 "nbformat": 4,
 "nbformat_minor": 2
}
