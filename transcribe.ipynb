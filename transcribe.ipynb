{
 "cells": [
  {
   "cell_type": "code",
   "execution_count": null,
   "metadata": {},
   "outputs": [
    {
     "name": "stdout",
     "output_type": "stream",
     "text": [
      "Fetching transcripts for playlist: NOC Jan 2020: Hydraulic Engineering- Prof Md. Saud Afzal\n",
      "Processing video: tmzInxHyyFk\n",
      "Processing video: LxLCJlTK4TY\n",
      "Processing video: BStvG3EYurg\n",
      "Processing video: rJ9W20InWw8\n",
      "Processing video: 9jHqR_-8Zxs\n",
      "Processing video: NMi5wf1RwBk\n",
      "Processing video: GycA40_YuOo\n",
      "Processing video: FKeidzMXFKo\n",
      "Processing video: QQf1uBUp4FE\n",
      "Processing video: 6vjWbA7iLLY\n",
      "Processing video: a8-l3ZbsQfA\n",
      "Processing video: NqFMbo2VTao\n",
      "Processing video: s0pyTvZAnSg\n",
      "Processing video: FzkYuewchxg\n",
      "Processing video: kfwZU6zosqs\n",
      "Processing video: H4sg3B2dV48\n",
      "Processing video: LKO3C4tsE2w\n",
      "Processing video: VmFQ-HSLltg\n",
      "Processing video: -IkLyN15P0E\n",
      "Processing video: KboYkSQ0dhg\n",
      "Processing video: vSp1Q9C_aC0\n",
      "Processing video: STwJbsTwFwY\n",
      "Processing video: DwKjT8DCwSU\n",
      "Processing video: FqUaK2gyKUc\n",
      "Processing video: YcMLjsv46l4\n",
      "Processing video: _WD5xME9cYU\n",
      "Processing video: LwrDf_gR0NY\n",
      "Processing video: KBbZsMyaVPY\n",
      "Processing video: CAZNIuQTE-0\n",
      "Processing video: ee2y4ChhsBQ\n",
      "Processing video: Nsg53tNC7oU\n",
      "Processing video: 3AekPKmEYW4\n",
      "Processing video: L7YWhQZa9OU\n",
      "Processing video: sbQ6yDKsOLI\n",
      "Processing video: miSsmykAhZA\n",
      "Processing video: Ig4pDmTRWBE\n",
      "Processing video: WmEXsxnA5Qg\n",
      "Processing video: VMosCisy4jE\n",
      "Processing video: vTGQ0f3T_DM\n",
      "Processing video: eXninOKFEck\n",
      "Processing video: Y7Z3St01j5w\n",
      "Processing video: tlI5SJ4k8ck\n",
      "Processing video: 6X-2e0qSXfc\n",
      "Processing video: MOWP6PXQHwk\n",
      "Processing video: khTPzAqqoUc\n",
      "Processing video: gVVXuQf-6fE\n",
      "Processing video: p6Ntt8u0sx8\n",
      "Processing video: sslHvWDzH0k\n",
      "Processing video: PO3o5Ro1Q2Q\n",
      "Processing video: KeJFJQN1VOI\n",
      "Processing video: 0wFC1DL9hWk\n",
      "Processing video: 0v5-YCiLi58\n",
      "Processing video: QBtr0R4DLiM\n",
      "Processing video: CfpfGWxuhzY\n",
      "Processing video: PRzX7Ah8aoM\n",
      "Processing video: mHD3pFoUXD0\n",
      "Processing video: 6eDAERXbXsU\n",
      "Processing video: I16mH1Ea8TE\n",
      "Processing video: r5CgxXEEwq4\n",
      "Processing video: oGdmicMYSJY\n",
      "Processing video: LxnnaMI9w14\n",
      "Processing video: O8c57K06wIw\n",
      "Processing video: I14_59YoFMc\n",
      "Processing video: HIidlKqjLUA\n",
      "Transcripts saved to transcripts.json\n"
     ]
    }
   ],
   "source": [
    "from youtube_transcript_api import YouTubeTranscriptApi as yta\n",
    "from pytube import Playlist\n",
    "import json\n",
    "\n",
    "def fetch_transcripts(playlist_url, output_file=\"transcripts.json\"):\n",
    "    transcripts = {}\n",
    "    playlist = Playlist(playlist_url)\n",
    "    print(f\"Fetching transcripts for playlist: {playlist.title}\")\n",
    "    \n",
    "    for video_url in playlist.video_urls:\n",
    "        try:\n",
    "            video_id = video_url.split(\"v=\")[-1].split(\"&\")[0]\n",
    "            print(f\"Processing video: {video_id}\")\n",
    "            transcript_data = yta.get_transcript(video_id)\n",
    "            transcript_text = \"\\n\".join([item['text'] for item in transcript_data])\n",
    "            transcripts[video_id] = transcript_text\n",
    "        except Exception as e:\n",
    "            print(f\"Error fetching transcript for video {video_id}: {e}\")\n",
    "\n",
    "    with open(output_file, \"w\", encoding=\"utf-8\") as f:\n",
    "        json.dump(transcripts, f, indent=4, ensure_ascii=False)\n",
    "    \n",
    "    print(f\"Transcripts saved to {output_file}\")\n",
    "\n",
    "playlist_url = 'https://www.youtube.com/playlist?list=PLbRMhDVUMngdInIhHKoECcrz27t_MJvD4'\n",
    "fetch_transcripts(playlist_url)\n"
   ]
  },
  {
   "cell_type": "code",
   "execution_count": null,
   "metadata": {},
   "outputs": [
    {
     "name": "stdout",
     "output_type": "stream",
     "text": [
      "Renamed JSON file saved to renamed_transcripts.json\n"
     ]
    }
   ],
   "source": [
    "def rename_keys(input_file, output_file):\n",
    "    with open(input_file, \"r\", encoding=\"utf-8\") as f:\n",
    "        data = json.load(f)\n",
    "\n",
    "    renamed_data = {f\"video_{i}\": transcript for i, (_, transcript) in enumerate(data.items())}\n",
    "    \n",
    "    with open(output_file, \"w\", encoding=\"utf-8\") as f:\n",
    "        json.dump(renamed_data, f, indent=4, ensure_ascii=False)\n",
    "    \n",
    "    print(f\"Renamed JSON file saved to {output_file}\")\n",
    "\n",
    "input_file = \"transcripts.json\"  \n",
    "output_file = \"renamed_transcripts.json\"\n",
    "\n",
    "rename_keys(input_file, output_file)"
   ]
  }
 ],
 "metadata": {
  "kernelspec": {
   "display_name": "env1",
   "language": "python",
   "name": "python3"
  },
  "language_info": {
   "codemirror_mode": {
    "name": "ipython",
    "version": 3
   },
   "file_extension": ".py",
   "mimetype": "text/x-python",
   "name": "python",
   "nbconvert_exporter": "python",
   "pygments_lexer": "ipython3",
   "version": "3.11.5"
  }
 },
 "nbformat": 4,
 "nbformat_minor": 2
}
